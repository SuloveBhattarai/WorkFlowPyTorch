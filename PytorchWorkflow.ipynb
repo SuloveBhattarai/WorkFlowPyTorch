{
  "nbformat": 4,
  "nbformat_minor": 0,
  "metadata": {
    "colab": {
      "provenance": [],
      "authorship_tag": "ABX9TyON4iPXwXceiAFN5oely/TS",
      "include_colab_link": true
    },
    "kernelspec": {
      "name": "python3",
      "display_name": "Python 3"
    },
    "language_info": {
      "name": "python"
    }
  },
  "cells": [
    {
      "cell_type": "markdown",
      "metadata": {
        "id": "view-in-github",
        "colab_type": "text"
      },
      "source": [
        "<a href=\"https://colab.research.google.com/github/SuloveBhattarai/WorkFlowPyTorch/blob/main/PytorchWorkflow.ipynb\" target=\"_parent\"><img src=\"https://colab.research.google.com/assets/colab-badge.svg\" alt=\"Open In Colab\"/></a>"
      ]
    },
    {
      "cell_type": "code",
      "execution_count": null,
      "metadata": {
        "id": "5eu_lvRk6wis"
      },
      "outputs": [],
      "source": [
        "import torch\n",
        "from torch import nn\n",
        "import matplotlib.pyplot as plt"
      ]
    },
    {
      "cell_type": "code",
      "source": [
        "torch.__version__"
      ],
      "metadata": {
        "colab": {
          "base_uri": "https://localhost:8080/",
          "height": 36
        },
        "id": "mFYUnuox65jg",
        "outputId": "dcfc18c5-681a-49d8-b21c-c22e15f99a59"
      },
      "execution_count": null,
      "outputs": [
        {
          "output_type": "execute_result",
          "data": {
            "text/plain": [
              "'2.0.1+cu118'"
            ],
            "application/vnd.google.colaboratory.intrinsic+json": {
              "type": "string"
            }
          },
          "metadata": {},
          "execution_count": 2
        }
      ]
    },
    {
      "cell_type": "markdown",
      "source": [
        "Check the version of the PyTorch\n"
      ],
      "metadata": {
        "id": "h4MPQ2mI769R"
      }
    },
    {
      "cell_type": "code",
      "source": [
        "weight= 0.7\n",
        "bias= 0.3\n",
        "\n",
        "start=0\n",
        "end=1\n",
        "step=0.02\n",
        "X= torch.arange(start, end, step).unsqueeze(dim=1)\n",
        "y= weight*X+bias\n",
        "X[:10], y[:10]"
      ],
      "metadata": {
        "colab": {
          "base_uri": "https://localhost:8080/"
        },
        "id": "E_DvkMX1704C",
        "outputId": "c4467b37-ce94-441d-b8c2-0d0f3086508a"
      },
      "execution_count": null,
      "outputs": [
        {
          "output_type": "execute_result",
          "data": {
            "text/plain": [
              "(tensor([[0.0000],\n",
              "         [0.0200],\n",
              "         [0.0400],\n",
              "         [0.0600],\n",
              "         [0.0800],\n",
              "         [0.1000],\n",
              "         [0.1200],\n",
              "         [0.1400],\n",
              "         [0.1600],\n",
              "         [0.1800]]),\n",
              " tensor([[0.3000],\n",
              "         [0.3140],\n",
              "         [0.3280],\n",
              "         [0.3420],\n",
              "         [0.3560],\n",
              "         [0.3700],\n",
              "         [0.3840],\n",
              "         [0.3980],\n",
              "         [0.4120],\n",
              "         [0.4260]]))"
            ]
          },
          "metadata": {},
          "execution_count": 3
        }
      ]
    },
    {
      "cell_type": "markdown",
      "source": [
        "unsqueeze(dim=1) is used to change the shape of the tensor. In this case, it adds an extra dimension at position dim=1, effectively converting the 1D tensor into a 2D tensor with one of its dimensions having size 1.\n"
      ],
      "metadata": {
        "id": "BZf4sWim74nb"
      }
    },
    {
      "cell_type": "markdown",
      "source": [
        "**Now let's build a model which will learn the relationship between X (features) and y (labels). **\n",
        "**At first we need to split data into training and test sets**"
      ],
      "metadata": {
        "id": "2NaeOQ_L7DcO"
      }
    },
    {
      "cell_type": "markdown",
      "source": [
        "*Let's create a train/test split*"
      ],
      "metadata": {
        "id": "StyXIqgz-T2O"
      }
    },
    {
      "cell_type": "code",
      "source": [
        "train_split= int(0.8* len(X))\n",
        "X_train, y_train= X[:train_split], y[:train_split]\n",
        "X_test, y_test= X[train_split:], y[train_split:]\n",
        "len(X_train), len(y_train), len(X_test), len(y_test)"
      ],
      "metadata": {
        "colab": {
          "base_uri": "https://localhost:8080/"
        },
        "id": "Hyo-ls4F_Dif",
        "outputId": "fbe7b55e-9fef-415b-b8a8-063253eb441d"
      },
      "execution_count": null,
      "outputs": [
        {
          "output_type": "execute_result",
          "data": {
            "text/plain": [
              "(40, 40, 10, 10)"
            ]
          },
          "metadata": {},
          "execution_count": 4
        }
      ]
    },
    {
      "cell_type": "code",
      "source": [
        "def plot_predictions(train_data= X_train,\n",
        "                     train_labels= y_train,\n",
        "                     test_data= X_test,\n",
        "                     test_labels= y_test,\n",
        "                     predictions= None):\n",
        "  plt.figure(figsize= (10,7))\n",
        "  #PLot of the training data in blue\n",
        "  plt.scatter(train_data, train_labels, c= \"b\", s=4, label= \"Training Data\")\n",
        "\n",
        "  #Plot test data in green\n",
        "  plt.scatter(test_data, test_labels, c= \"g\", s= 4, label= \"Testing Data\")\n",
        "\n",
        "  if predictions is not None:\n",
        "    plt.scatter(test_data, predictions, c= \"r\", s=4, label= \"Predictions\")\n",
        "\n",
        "  #Show the legend\n",
        "  plt.legend(prop= {\"size\": 14});\n",
        "\n"
      ],
      "metadata": {
        "id": "ZY-8OjSk_5-B"
      },
      "execution_count": null,
      "outputs": []
    },
    {
      "cell_type": "code",
      "source": [
        "plot_predictions();"
      ],
      "metadata": {
        "colab": {
          "base_uri": "https://localhost:8080/",
          "height": 472
        },
        "id": "qWstTaVWAHGw",
        "outputId": "367b0455-61d2-42ab-c00a-26ebeb794444"
      },
      "execution_count": null,
      "outputs": [
        {
          "output_type": "display_data",
          "data": {
            "text/plain": [
              "<Figure size 1000x700 with 1 Axes>"
            ],
            "image/png": "[encoded data removed]"
          },
          "metadata": {}
        }
      ]
    },
    {
      "cell_type": "markdown",
      "source": [
        "Building a model to use blue dots to predict the green dots"
      ],
      "metadata": {
        "id": "S3SIML7_MSCa"
      }
    },
    {
      "cell_type": "code",
      "source": [
        "#Create a class\n",
        "class LinearRegressionModel(nn.Module):\n",
        "  def __init__(self):\n",
        "    super().__init__()\n",
        "    self.weights= nn.Parameter(torch.randn(1,dtype= torch.float),requires_grad=True)\n",
        "    self.bias= nn.Parameter(torch.randn(1, dtype=torch.float),requires_grad=True)\n",
        "\n",
        "  def forward(self, x: torch.Tensor)-> torch.Tensor:\n",
        "    return self.weights+ x* self.bias"
      ],
      "metadata": {
        "id": "sSV-c26FYJtK"
      },
      "execution_count": null,
      "outputs": []
    },
    {
      "cell_type": "markdown",
      "source": [
        "This forward method implements the linear regression formula: y = mx + b, where y is the predicted output, x is the input data, self.weights is the slope (weight) parameter m, and self.bias is the intercept (bias) parameter b.\n",
        "\n",
        "def forward(self, x: torch.Tensor): This defines a method named forward within your custom PyTorch model class. The method takes one argument, x, which is expected to be a PyTorch tensor representing the input data."
      ],
      "metadata": {
        "id": "gbHuQBK7Xmqa"
      }
    },
    {
      "cell_type": "markdown",
      "source": [
        "**Contents of PyTorch Model**"
      ],
      "metadata": {
        "id": "d1XOLLAdYojF"
      }
    },
    {
      "cell_type": "code",
      "source": [
        "torch.manual_seed(42)\n",
        "model_0= LinearRegressionModel()\n",
        "list(model_0.parameters())"
      ],
      "metadata": {
        "colab": {
          "base_uri": "https://localhost:8080/"
        },
        "id": "KUZwWUgUY8dH",
        "outputId": "b0c3c7c9-2655-49c0-c9d3-c73244850423"
      },
      "execution_count": null,
      "outputs": [
        {
          "output_type": "execute_result",
          "data": {
            "text/plain": [
              "[Parameter containing:\n",
              " tensor([0.3367], requires_grad=True),\n",
              " Parameter containing:\n",
              " tensor([0.1288], requires_grad=True)]"
            ]
          },
          "metadata": {},
          "execution_count": 8
        }
      ]
    },
    {
      "cell_type": "code",
      "source": [
        "model_0.state_dict()"
      ],
      "metadata": {
        "colab": {
          "base_uri": "https://localhost:8080/"
        },
        "id": "hQ2tS6R1ZJEL",
        "outputId": "a8a8a38d-5e1f-4dce-d04f-94b8dbe65037"
      },
      "execution_count": null,
      "outputs": [
        {
          "output_type": "execute_result",
          "data": {
            "text/plain": [
              "OrderedDict([('weights', tensor([0.3367])), ('bias', tensor([0.1288]))])"
            ]
          },
          "metadata": {},
          "execution_count": 9
        }
      ]
    },
    {
      "cell_type": "markdown",
      "source": [
        "**torch.inference_model for making predictions**"
      ],
      "metadata": {
        "id": "ItUrqI3Ka4RF"
      }
    },
    {
      "cell_type": "code",
      "source": [
        "with torch.inference_mode():\n",
        "  y_preds= model_0(X_test)\n",
        "\n",
        "# Note: in older PyTorch code you might also see torch.no_grad()\n",
        "# with torch.no_grad():\n",
        "#   y_preds = model_0(X_test)"
      ],
      "metadata": {
        "id": "doQmN2bCbKho"
      },
      "execution_count": null,
      "outputs": []
    },
    {
      "cell_type": "code",
      "source": [
        "#Check prdictions:\n",
        "print(f\"NUmber of testing samples: {len(X_test)}\")\n",
        "print(f\"NUmber of predictions made: {len(y_preds)}\")\n",
        "print(f\"Predicted values: \\n {y_preds}\")"
      ],
      "metadata": {
        "colab": {
          "base_uri": "https://localhost:8080/"
        },
        "id": "QiCsw5D4bPXU",
        "outputId": "3775aa1b-02fa-431a-88b9-747f4190db26"
      },
      "execution_count": null,
      "outputs": [
        {
          "output_type": "stream",
          "name": "stdout",
          "text": [
            "NUmber of testing samples: 10\n",
            "NUmber of predictions made: 10\n",
            "Predicted values: \n",
            " tensor([[0.4397],\n",
            "        [0.4423],\n",
            "        [0.4449],\n",
            "        [0.4475],\n",
            "        [0.4500],\n",
            "        [0.4526],\n",
            "        [0.4552],\n",
            "        [0.4578],\n",
            "        [0.4603],\n",
            "        [0.4629]])\n"
          ]
        }
      ]
    },
    {
      "cell_type": "code",
      "source": [
        "torch.__version__"
      ],
      "metadata": {
        "colab": {
          "base_uri": "https://localhost:8080/",
          "height": 36
        },
        "id": "vHmvfvw7k-Bk",
        "outputId": "ba0f1be9-59d2-4f89-daba-c720394177a3"
      },
      "execution_count": null,
      "outputs": [
        {
          "output_type": "execute_result",
          "data": {
            "text/plain": [
              "'2.0.1+cu118'"
            ],
            "application/vnd.google.colaboratory.intrinsic+json": {
              "type": "string"
            }
          },
          "metadata": {},
          "execution_count": 12
        }
      ]
    },
    {
      "cell_type": "code",
      "source": [
        "plot_predictions(predictions=y_preds)"
      ],
      "metadata": {
        "colab": {
          "base_uri": "https://localhost:8080/",
          "height": 472
        },
        "id": "gxumUxgHlfvW",
        "outputId": "d930151b-15ac-492e-8cc3-0bebd1b3d592"
      },
      "execution_count": null,
      "outputs": [
        {
          "output_type": "display_data",
          "data": {
            "text/plain": [
              "<Figure size 1000x700 with 1 Axes>"
            ],
            "image/png": "[encoded data removed]"
          },
          "metadata": {}
        }
      ]
    },
    {
      "cell_type": "markdown",
      "source": [
        "Until now, our model is making predictions randsomly. To fix this, we can update its internal parameters to represent the data better.\n",
        "We can hardcode them iwth their default values as mentioned in the beginning of this.\n",
        "Lets be honest, most of the time, we can't know what the ideal parameters are for a model.\n",
        "Instead, we need to learn to write code to see if model can figure out itself"
      ],
      "metadata": {
        "id": "bFhPrn0tol5G"
      }
    },
    {
      "cell_type": "code",
      "source": [
        "y_test- y_preds"
      ],
      "metadata": {
        "id": "H8lgGg7Jpgoq",
        "colab": {
          "base_uri": "https://localhost:8080/"
        },
        "outputId": "f4ed0ba5-58eb-4c1b-f345-7ef48304b573"
      },
      "execution_count": null,
      "outputs": [
        {
          "output_type": "execute_result",
          "data": {
            "text/plain": [
              "tensor([[0.4203],\n",
              "        [0.4317],\n",
              "        [0.4431],\n",
              "        [0.4545],\n",
              "        [0.4660],\n",
              "        [0.4774],\n",
              "        [0.4888],\n",
              "        [0.5002],\n",
              "        [0.5117],\n",
              "        [0.5231]])"
            ]
          },
          "metadata": {},
          "execution_count": 14
        }
      ]
    },
    {
      "cell_type": "markdown",
      "source": [
        "**Learning about Loss function and Optimizer in PyTorch**"
      ],
      "metadata": {
        "id": "0oHlz3u6jbZL"
      }
    },
    {
      "cell_type": "markdown",
      "source": [
        "Some of the Loss Function are Mean Absolute Error (MAE) and Binary Cross Entroy (BCE). MAE is used for regressional problems where as BCE is used for classification problems\n"
      ],
      "metadata": {
        "id": "cTjK8EuSl4yt"
      }
    },
    {
      "cell_type": "markdown",
      "source": [
        "Optimizer gives an idea on how to update the internal parameters. Stochastic gradient descent (torch.optim.SGD()) and Adam Optimizer (torch.optim.Adam())"
      ],
      "metadata": {
        "id": "iN-uwDmSmMZK"
      }
    },
    {
      "cell_type": "markdown",
      "source": [
        "MAE in PyTorch: torch.nn.L1loss"
      ],
      "metadata": {
        "id": "Zpz0y0GLmfud"
      }
    },
    {
      "cell_type": "markdown",
      "source": [
        "Example of SGD optimizer:\n",
        "torch.optim.SGD*(params, lr)\n",
        "params --> is used to optimize weight and bias\n",
        "lr--> learning rate considered as hyperparameter which is adjusted over the time\n"
      ],
      "metadata": {
        "id": "jQWcbY5ymnVZ"
      }
    },
    {
      "cell_type": "code",
      "source": [
        "# Loss Function\n",
        "loss_fn= nn.L1Loss()\n",
        "#Creation of the optimizer\n",
        "\n",
        "optimizer= torch.optim.SGD(params= model_0.parameters(), lr=0.01)"
      ],
      "metadata": {
        "id": "opWTU5hZmsWs"
      },
      "execution_count": null,
      "outputs": []
    },
    {
      "cell_type": "markdown",
      "source": [
        "**Creating an optimization loop in PyTorch**"
      ],
      "metadata": {
        "id": "PUNWS9ninX9g"
      }
    },
    {
      "cell_type": "markdown",
      "source": [
        "Training loop should be created so that model goes through training data and learning relationships between features and labels.\n",
        "Testing loop goes through testing the data and evaluating how good patters are that the model learn on the training data."
      ],
      "metadata": {
        "id": "w-W4206KntiI"
      }
    },
    {
      "cell_type": "markdown",
      "source": [
        "PyTorch optimization loop song: Credits to @mrdbourke\n",
        "It's train time!\n",
        "do the forward pass,\n",
        "calculate the loss,\n",
        "optimizer zero grad,\n",
        "lossss backwards!\n",
        "\n",
        "Optimizer step step step\n",
        "\n",
        "Let's test now!\n",
        "with torch no grad:\n",
        "do the forward pass,\n",
        "calculate the loss,\n",
        "watch it go down down down!\n"
      ],
      "metadata": {
        "id": "a231kmcn83ii"
      }
    },
    {
      "cell_type": "markdown",
      "source": [
        "**Training for 100 epochs**"
      ],
      "metadata": {
        "id": "yZPYm_9i9PbK"
      }
    },
    {
      "cell_type": "code",
      "source": [
        "torch.manual_seed(42)\n",
        "# Set the number of epochs (how many times the model will pass over the training data)\n",
        "epochs = 100\n",
        "\n",
        "#Create empty loss lists to track values\n",
        "train_loss_values= []\n",
        "test_loss_values= []\n",
        "epoch_count= []\n",
        "\n",
        "for epoch in range(epochs):\n",
        "  ###Training\n",
        "  #Put model in training mode\n",
        "  model_0.train()\n",
        "  #Forward pass on train data using forward method inside\n",
        "\n",
        "\n",
        "  y_pred= model_0(X_train)\n",
        "   #print (y_pred)\n",
        "\n",
        "   #Calculation of loss\n",
        "  loss= loss_fn(y_pred, y_train)\n",
        "  #Zero grad of optimizer\n",
        "\n",
        "  optimizer.zero_grad()\n",
        "  loss.backward()\n",
        "  optimizer.step()\n",
        "\n",
        "  ###Testing\n",
        "\n",
        "  model_0.eval()\n",
        "\n",
        "  with torch.inference_mode():\n",
        "    #Forward pass on test data\n",
        "    test_pred= model_0(X_test)\n",
        "    #Calculate loss on test data\n",
        "    test_loss= loss_fn(test_pred, y_test.type(torch.float))\n",
        "    #Print out what's happening\n",
        "    if epoch% 10==0:\n",
        "      epoch_count.append(epoch)\n",
        "      train_loss_values.append(loss.detach().numpy())\n",
        "      test_loss_values.append(test_loss.detach().numpy())\n",
        "      print(f\"Epoch:{epoch}| MAE Train Loss: {loss}| MAE Test Loss: {test_loss}\")\n"
      ],
      "metadata": {
        "colab": {
          "base_uri": "https://localhost:8080/"
        },
        "id": "Imb4KW50JzVp",
        "outputId": "6888adf2-56be-4762-9f60-6476534402fb"
      },
      "execution_count": null,
      "outputs": [
        {
          "output_type": "stream",
          "name": "stdout",
          "text": [
            "Epoch:0| MAE Train Loss: 0.18998488783836365| MAE Test Loss: 0.46025165915489197\n",
            "Epoch:10| MAE Train Loss: 0.1330057680606842| MAE Test Loss: 0.36481115221977234\n",
            "Epoch:20| MAE Train Loss: 0.1078808456659317| MAE Test Loss: 0.30089178681373596\n",
            "Epoch:30| MAE Train Loss: 0.09657569974660873| MAE Test Loss: 0.25816431641578674\n",
            "Epoch:40| MAE Train Loss: 0.09056054055690765| MAE Test Loss: 0.23037245869636536\n",
            "Epoch:50| MAE Train Loss: 0.0863761156797409| MAE Test Loss: 0.21190330386161804\n",
            "Epoch:60| MAE Train Loss: 0.08275000005960464| MAE Test Loss: 0.19952726364135742\n",
            "Epoch:70| MAE Train Loss: 0.07926000654697418| MAE Test Loss: 0.18850719928741455\n",
            "Epoch:80| MAE Train Loss: 0.07577000558376312| MAE Test Loss: 0.1774871051311493\n",
            "Epoch:90| MAE Train Loss: 0.07231142371892929| MAE Test Loss: 0.16852769255638123\n"
          ]
        }
      ]
    },
    {
      "cell_type": "code",
      "source": [
        "plt.plot(epoch_count, train_loss_values, label= \"Train Loss\")\n",
        "plt.plot(epoch_count, test_loss_values, label= \"Test loss\")\n",
        "plt.title(\"Training and test loss curves\")\n",
        "plt.ylabel(\"Loss\")\n",
        "plt.xlabel(\"Epochs\")\n",
        "plt.legend()"
      ],
      "metadata": {
        "colab": {
          "base_uri": "https://localhost:8080/",
          "height": 489
        },
        "id": "7lw75c36LW1L",
        "outputId": "1b9a4d33-bd2e-45d6-8e9d-1c94c796e2ea"
      },
      "execution_count": null,
      "outputs": [
        {
          "output_type": "execute_result",
          "data": {
            "text/plain": [
              "<matplotlib.legend.Legend at 0x791a69043fd0>"
            ]
          },
          "metadata": {},
          "execution_count": 17
        },
        {
          "output_type": "display_data",
          "data": {
            "text/plain": [
              "<Figure size 640x480 with 1 Axes>"
            ],
            "image/png": "[encoded data removed]"
          },
          "metadata": {}
        }
      ]
    },
    {
      "cell_type": "markdown",
      "source": [
        "**To inspect our model's .state_dict() is used to see how close our model gets to the original values we set for weight and bias.**"
      ],
      "metadata": {
        "id": "hHcZa9nfO5FM"
      }
    },
    {
      "cell_type": "code",
      "source": [
        "print(\"Learned values of the weights and bias\")\n",
        "print(model_0.state_dict())\n",
        "print(\"\\n And the original values for weights and bias are: \")\n",
        "print(f\"Weights: {weight}, bias: {bias}\")"
      ],
      "metadata": {
        "colab": {
          "base_uri": "https://localhost:8080/"
        },
        "id": "hNekPvrAPu1Z",
        "outputId": "7691474d-20c8-4aa3-9366-4a7e11247d66"
      },
      "execution_count": null,
      "outputs": [
        {
          "output_type": "stream",
          "name": "stdout",
          "text": [
            "Learned values of the weights and bias\n",
            "OrderedDict([('weights', tensor([0.4437])), ('bias', tensor([0.3572]))])\n",
            "\n",
            " And the original values for weights and bias are: \n",
            "Weights: 0.7, bias: 0.3\n"
          ]
        }
      ]
    },
    {
      "cell_type": "markdown",
      "source": [
        "**Making predictions with a trained PyTorch Model (inference)**"
      ],
      "metadata": {
        "id": "dlNucMXFQd7g"
      }
    },
    {
      "cell_type": "code",
      "source": [
        "#Set the model in evaluation mode\n",
        "model_0.eval()\n",
        "with torch.inference_mode():\n",
        "  y_preds= model_0(X_test)\n",
        "y_preds"
      ],
      "metadata": {
        "id": "RHmKUfaPqACC",
        "colab": {
          "base_uri": "https://localhost:8080/"
        },
        "outputId": "a514e473-f525-4feb-cd19-8b2ce7df7bae"
      },
      "execution_count": null,
      "outputs": [
        {
          "output_type": "execute_result",
          "data": {
            "text/plain": [
              "tensor([[0.7295],\n",
              "        [0.7366],\n",
              "        [0.7438],\n",
              "        [0.7509],\n",
              "        [0.7581],\n",
              "        [0.7652],\n",
              "        [0.7724],\n",
              "        [0.7795],\n",
              "        [0.7867],\n",
              "        [0.7938]])"
            ]
          },
          "metadata": {},
          "execution_count": 19
        }
      ]
    },
    {
      "cell_type": "code",
      "source": [
        "plot_predictions(predictions= y_preds)\n"
      ],
      "metadata": {
        "colab": {
          "base_uri": "https://localhost:8080/",
          "height": 472
        },
        "id": "dJ4GFcRMn3In",
        "outputId": "1b5c3667-5bd3-4c30-accf-1ef062063f3c"
      },
      "execution_count": null,
      "outputs": [
        {
          "output_type": "display_data",
          "data": {
            "text/plain": [
              "<Figure size 1000x700 with 1 Axes>"
            ],
            "image/png": "[encoded data removed]"
          },
          "metadata": {}
        }
      ]
    },
    {
      "cell_type": "markdown",
      "source": [
        "**Saving and loading models in PyTorch**"
      ],
      "metadata": {
        "id": "pjoiKRL_oSBD"
      }
    },
    {
      "cell_type": "markdown",
      "source": [
        "torch.save--> Save an object to the disk using PYthon's pickle utility. MOdels, tensor, and various other Python objects like dictionaries can be saved using torch.save"
      ],
      "metadata": {
        "id": "fjiQSqvUojlw"
      }
    },
    {
      "cell_type": "markdown",
      "source": [
        "torch.load--> Uses pickle's unpickling features to deserialize and load pickled Python object files\n"
      ],
      "metadata": {
        "id": "ad-QJQITozxW"
      }
    },
    {
      "cell_type": "markdown",
      "source": [
        "torch.nn.Modlule.load_state_dict--> Loads  a model's paramter dictionary (model.state_dict()) using a saved state_dict() object"
      ],
      "metadata": {
        "id": "7z052MBso8Bi"
      }
    },
    {
      "cell_type": "code",
      "source": [
        "from pathlib import Path\n",
        "\n",
        "#Models directory creation\n",
        "\n",
        "model_path= Path(\"models\")\n",
        "model_path.mkdir(parents= True, exist_ok= True)\n",
        "\n",
        "model_name= \"PytorchWorkflow_0.pth\"\n",
        "model_save_path= model_path/ model_name\n",
        "\n",
        "#Save the model state dict\n",
        "print(f\"Saving model to: {model_save_path}\")\n",
        "torch.save(obj=model_0.state_dict(), f= model_save_path)"
      ],
      "metadata": {
        "colab": {
          "base_uri": "https://localhost:8080/"
        },
        "id": "UcJ2B9ydpKYA",
        "outputId": "d732a822-bd53-4da4-9e17-e598864ed53c"
      },
      "execution_count": null,
      "outputs": [
        {
          "output_type": "stream",
          "name": "stdout",
          "text": [
            "Saving model to: models/PytorchWorkflow_0.pth\n"
          ]
        }
      ]
    },
    {
      "cell_type": "code",
      "source": [
        "!ls -l models/PytorchWorkflow_0.pth"
      ],
      "metadata": {
        "colab": {
          "base_uri": "https://localhost:8080/"
        },
        "id": "GgLg7j46siNh",
        "outputId": "9db935f9-129e-4e56-8ea8-b281557df178"
      },
      "execution_count": null,
      "outputs": [
        {
          "output_type": "stream",
          "name": "stdout",
          "text": [
            "-rw-r--r-- 1 root root 1103 Sep 14 03:18 models/PytorchWorkflow_0.pth\n"
          ]
        }
      ]
    },
    {
      "cell_type": "code",
      "source": [
        "#Instantiate a new instance of our model\n",
        "\n",
        "loaded_model_0= LinearRegressionModel()\n",
        "\n",
        "loaded_model_0.load_state_dict(torch.load(f= model_save_path))"
      ],
      "metadata": {
        "colab": {
          "base_uri": "https://localhost:8080/"
        },
        "id": "U1bS5GBOspsj",
        "outputId": "c4d248a2-24de-4c1c-da2d-518616cf5958"
      },
      "execution_count": null,
      "outputs": [
        {
          "output_type": "execute_result",
          "data": {
            "text/plain": [
              "<All keys matched successfully>"
            ]
          },
          "metadata": {},
          "execution_count": 24
        }
      ]
    },
    {
      "cell_type": "code",
      "source": [
        "loaded_model_0.eval()\n",
        "with torch.inference_mode():\n",
        "  loaded_model_preds= loaded_model_0(X_test)"
      ],
      "metadata": {
        "id": "H9K-_54VtL9s"
      },
      "execution_count": null,
      "outputs": []
    },
    {
      "cell_type": "code",
      "source": [
        "y_preds== loaded_model_preds"
      ],
      "metadata": {
        "colab": {
          "base_uri": "https://localhost:8080/"
        },
        "id": "iWmsYwb1tbmU",
        "outputId": "7d495397-bc16-4676-9a4f-35e32fddfdae"
      },
      "execution_count": null,
      "outputs": [
        {
          "output_type": "execute_result",
          "data": {
            "text/plain": [
              "tensor([[True],\n",
              "        [True],\n",
              "        [True],\n",
              "        [True],\n",
              "        [True],\n",
              "        [True],\n",
              "        [True],\n",
              "        [True],\n",
              "        [True],\n",
              "        [True]])"
            ]
          },
          "metadata": {},
          "execution_count": 26
        }
      ]
    },
    {
      "cell_type": "markdown",
      "source": [
        "**Putting it all together**"
      ],
      "metadata": {
        "id": "MQXjIhYgtelH"
      }
    },
    {
      "cell_type": "code",
      "source": [
        "import torch\n",
        "from torch import nn\n",
        "import matplotlib.pyplot as plt"
      ],
      "metadata": {
        "id": "PuXpnKPYtoa4"
      },
      "execution_count": null,
      "outputs": []
    },
    {
      "cell_type": "code",
      "source": [
        "torch.__version__"
      ],
      "metadata": {
        "colab": {
          "base_uri": "https://localhost:8080/",
          "height": 36
        },
        "id": "n7pvwHmZuJSa",
        "outputId": "f8ba1f0c-0f3d-49f0-b11a-6553b22ad75a"
      },
      "execution_count": null,
      "outputs": [
        {
          "output_type": "execute_result",
          "data": {
            "text/plain": [
              "'2.0.1+cu118'"
            ],
            "application/vnd.google.colaboratory.intrinsic+json": {
              "type": "string"
            }
          },
          "metadata": {},
          "execution_count": 49
        }
      ]
    },
    {
      "cell_type": "code",
      "source": [
        "device= \"cuda\" if torch.cuda.is_availabe() else \"cpu\"\n",
        "print(f\"Using device: {device}\")"
      ],
      "metadata": {
        "colab": {
          "base_uri": "https://localhost:8080/",
          "height": 192
        },
        "id": "5kVm5ksMuKrt",
        "outputId": "59ab155e-25b2-425a-dff8-33360cb08e2a"
      },
      "execution_count": null,
      "outputs": [
        {
          "output_type": "error",
          "ename": "AttributeError",
          "evalue": "ignored",
          "traceback": [
            "\u001b[0;31m---------------------------------------------------------------------------\u001b[0m",
            "\u001b[0;31mAttributeError\u001b[0m                            Traceback (most recent call last)",
            "\u001b[0;32m<ipython-input-50-d916fa07e4dc>\u001b[0m in \u001b[0;36m<cell line: 1>\u001b[0;34m()\u001b[0m\n\u001b[0;32m----> 1\u001b[0;31m \u001b[0mdevice\u001b[0m\u001b[0;34m=\u001b[0m \u001b[0;34m\"cuda\"\u001b[0m \u001b[0;32mif\u001b[0m \u001b[0mtorch\u001b[0m\u001b[0;34m.\u001b[0m\u001b[0mcuda\u001b[0m\u001b[0;34m.\u001b[0m\u001b[0mis_availabe\u001b[0m\u001b[0;34m(\u001b[0m\u001b[0;34m)\u001b[0m \u001b[0;32melse\u001b[0m \u001b[0;34m\"cpu\"\u001b[0m\u001b[0;34m\u001b[0m\u001b[0;34m\u001b[0m\u001b[0m\n\u001b[0m\u001b[1;32m      2\u001b[0m \u001b[0mprint\u001b[0m\u001b[0;34m(\u001b[0m\u001b[0;34mf\"Using device: {device}\"\u001b[0m\u001b[0;34m)\u001b[0m\u001b[0;34m\u001b[0m\u001b[0;34m\u001b[0m\u001b[0m\n",
            "\u001b[0;31mAttributeError\u001b[0m: module 'torch.cuda' has no attribute 'is_availabe'"
          ]
        }
      ]
    },
    {
      "cell_type": "code",
      "source": [
        "weight= 0.7\n",
        "bias= 0.3\n",
        "\n",
        "start= 0\n",
        "end= 1\n",
        "step= 0.02\n",
        "\n",
        "X= torch.arange(start, end, step).unsqueeze(dim=1)\n",
        "y= weight * X+ bias\n",
        "X[:10], y[:10]"
      ],
      "metadata": {
        "colab": {
          "base_uri": "https://localhost:8080/"
        },
        "id": "MB4VBNkTuVCr",
        "outputId": "fb5d5259-0910-433e-d8b1-0d106cda8edd"
      },
      "execution_count": null,
      "outputs": [
        {
          "output_type": "execute_result",
          "data": {
            "text/plain": [
              "(tensor([[0.0000],\n",
              "         [0.0200],\n",
              "         [0.0400],\n",
              "         [0.0600],\n",
              "         [0.0800],\n",
              "         [0.1000],\n",
              "         [0.1200],\n",
              "         [0.1400],\n",
              "         [0.1600],\n",
              "         [0.1800]]),\n",
              " tensor([[0.3000],\n",
              "         [0.3140],\n",
              "         [0.3280],\n",
              "         [0.3420],\n",
              "         [0.3560],\n",
              "         [0.3700],\n",
              "         [0.3840],\n",
              "         [0.3980],\n",
              "         [0.4120],\n",
              "         [0.4260]]))"
            ]
          },
          "metadata": {},
          "execution_count": 52
        }
      ]
    },
    {
      "cell_type": "code",
      "source": [
        "#Split data\n",
        "train_split= int(0.8*len(X))\n",
        "X_train, y_train= X[:train_split], y[:train_split]\n",
        "X_test, y_test= X[train_split:], y[train_split:]\n",
        "len(X_train), len(y_train), len(X_test), len(y_test)"
      ],
      "metadata": {
        "colab": {
          "base_uri": "https://localhost:8080/"
        },
        "id": "Mtpgj1i9vKoL",
        "outputId": "800d9f15-4594-4288-daf0-7eb27cff1b75"
      },
      "execution_count": null,
      "outputs": [
        {
          "output_type": "execute_result",
          "data": {
            "text/plain": [
              "(40, 40, 10, 10)"
            ]
          },
          "metadata": {},
          "execution_count": 53
        }
      ]
    },
    {
      "cell_type": "code",
      "source": [
        "plot_predictions(X_train, y_train, X_test, y_test)"
      ],
      "metadata": {
        "colab": {
          "base_uri": "https://localhost:8080/",
          "height": 472
        },
        "id": "PB2x80HRvwF6",
        "outputId": "494975cc-df9c-4bd5-f5f5-29fc9993774c"
      },
      "execution_count": null,
      "outputs": [
        {
          "output_type": "display_data",
          "data": {
            "text/plain": [
              "<Figure size 1000x700 with 1 Axes>"
            ],
            "image/png": "[encoded data removed]"
          },
          "metadata": {}
        }
      ]
    },
    {
      "cell_type": "code",
      "source": [
        "class LinearRegressionModelV2(nn.Module):\n",
        "  def __init__(self):\n",
        "    super().__init__()\n",
        "    self.linear_layer= nn.Linear(in_features=1, out_features= 1)\n",
        "\n",
        "    def forward(self, x:torch.Tensor)->torch.Tensor:\n",
        "      return self.linear_layer(x)\n",
        "\n"
      ],
      "metadata": {
        "id": "aBYRlqM2v4R0"
      },
      "execution_count": null,
      "outputs": []
    },
    {
      "cell_type": "code",
      "source": [
        "torch.manual_seed(42)\n",
        "model_1= LinearRegressionModelV2()\n",
        "model_1, model_1.state_dict()"
      ],
      "metadata": {
        "colab": {
          "base_uri": "https://localhost:8080/"
        },
        "id": "iKrWCnHFwDrK",
        "outputId": "e2922be9-15ca-41b3-879d-ca0489378240"
      },
      "execution_count": null,
      "outputs": [
        {
          "output_type": "execute_result",
          "data": {
            "text/plain": [
              "(LinearRegressionModelV2(\n",
              "   (linear_layer): Linear(in_features=1, out_features=1, bias=True)\n",
              " ),\n",
              " OrderedDict([('linear_layer.weight', tensor([[0.7645]])),\n",
              "              ('linear_layer.bias', tensor([0.8300]))]))"
            ]
          },
          "metadata": {},
          "execution_count": 58
        }
      ]
    },
    {
      "cell_type": "code",
      "source": [
        "next(model_1.parameters()).device"
      ],
      "metadata": {
        "colab": {
          "base_uri": "https://localhost:8080/"
        },
        "id": "r-vGODolC3EL",
        "outputId": "f330f273-69e0-4a45-aee4-7993989f0ae1"
      },
      "execution_count": null,
      "outputs": [
        {
          "output_type": "execute_result",
          "data": {
            "text/plain": [
              "device(type='cpu')"
            ]
          },
          "metadata": {},
          "execution_count": 68
        }
      ]
    },
    {
      "cell_type": "code",
      "source": [
        "model_1.to(device)\n",
        "next(model_1.paramters()).device"
      ],
      "metadata": {
        "colab": {
          "base_uri": "https://localhost:8080/",
          "height": 192
        },
        "id": "yLJSSWIrC-Rz",
        "outputId": "dcd6489d-1785-47bb-909a-5817a5e6d367"
      },
      "execution_count": null,
      "outputs": [
        {
          "output_type": "error",
          "ename": "NameError",
          "evalue": "ignored",
          "traceback": [
            "\u001b[0;31m---------------------------------------------------------------------------\u001b[0m",
            "\u001b[0;31mNameError\u001b[0m                                 Traceback (most recent call last)",
            "\u001b[0;32m<ipython-input-62-333aef096386>\u001b[0m in \u001b[0;36m<cell line: 1>\u001b[0;34m()\u001b[0m\n\u001b[0;32m----> 1\u001b[0;31m \u001b[0mmodel_1\u001b[0m\u001b[0;34m.\u001b[0m\u001b[0mto\u001b[0m\u001b[0;34m(\u001b[0m\u001b[0mdevice\u001b[0m\u001b[0;34m)\u001b[0m\u001b[0;34m\u001b[0m\u001b[0;34m\u001b[0m\u001b[0m\n\u001b[0m\u001b[1;32m      2\u001b[0m \u001b[0mnext\u001b[0m\u001b[0;34m(\u001b[0m\u001b[0mmodel_1\u001b[0m\u001b[0;34m.\u001b[0m\u001b[0mparamters\u001b[0m\u001b[0;34m(\u001b[0m\u001b[0;34m)\u001b[0m\u001b[0;34m)\u001b[0m\u001b[0;34m.\u001b[0m\u001b[0mdevice\u001b[0m\u001b[0;34m\u001b[0m\u001b[0;34m\u001b[0m\u001b[0m\n",
            "\u001b[0;31mNameError\u001b[0m: name 'device' is not defined"
          ]
        }
      ]
    },
    {
      "cell_type": "markdown",
      "source": [
        "Training\n"
      ],
      "metadata": {
        "id": "Odq3zK6zDMrj"
      }
    },
    {
      "cell_type": "code",
      "source": [
        "loss_fn= nn.L1Loss()\n",
        "optimizer= torch.optim.SGD(params= model_1.parameters(), lr=0.01)"
      ],
      "metadata": {
        "id": "352o_LZHDZTe"
      },
      "execution_count": null,
      "outputs": []
    },
    {
      "cell_type": "code",
      "source": [
        "torch.manual_seed(42)\n",
        "epochs=1000\n",
        "X_train- X_train\n",
        "X_test= X_test\n",
        "y_train= y_train\n",
        "y_test= y_test\n",
        "\n",
        "for epoch in range(epochs):\n",
        "  model_1.train()\n",
        "  y_pred= model_1(X_train)\n",
        "  loss= loss_fn(y_pred, y_train)\n",
        "  optimizer.zero_grad()\n",
        "  loss.backward()\n",
        "  optimizer.step()\n",
        "  model_1.eval()\n",
        "\n",
        "\n",
        "\n",
        "  ###Testing\n",
        "\n",
        "  with torch.inference_mode():\n",
        "    test_pred= model_1(X_test)\n",
        "    test_loss= loss_fn(test_pred, y_test)\n",
        "\n",
        "  if epoch% 100==0:\n",
        "    print(f\"Epoch: {epoch}| Train Loss: {loss}| Test loss: {test_loss}\")\n"
      ],
      "metadata": {
        "colab": {
          "base_uri": "https://localhost:8080/",
          "height": 442
        },
        "id": "mTPJVVPzDlJk",
        "outputId": "cd970cd7-03f4-4d0e-a598-3934a423a034"
      },
      "execution_count": null,
      "outputs": [
        {
          "output_type": "error",
          "ename": "NotImplementedError",
          "evalue": "ignored",
          "traceback": [
            "\u001b[0;31m---------------------------------------------------------------------------\u001b[0m",
            "\u001b[0;31mNotImplementedError\u001b[0m                       Traceback (most recent call last)",
            "\u001b[0;32m<ipython-input-67-c66f9f76950f>\u001b[0m in \u001b[0;36m<cell line: 8>\u001b[0;34m()\u001b[0m\n\u001b[1;32m      8\u001b[0m \u001b[0;32mfor\u001b[0m \u001b[0mepoch\u001b[0m \u001b[0;32min\u001b[0m \u001b[0mrange\u001b[0m\u001b[0;34m(\u001b[0m\u001b[0mepochs\u001b[0m\u001b[0;34m)\u001b[0m\u001b[0;34m:\u001b[0m\u001b[0;34m\u001b[0m\u001b[0;34m\u001b[0m\u001b[0m\n\u001b[1;32m      9\u001b[0m   \u001b[0mmodel_1\u001b[0m\u001b[0;34m.\u001b[0m\u001b[0mtrain\u001b[0m\u001b[0;34m(\u001b[0m\u001b[0;34m)\u001b[0m\u001b[0;34m\u001b[0m\u001b[0;34m\u001b[0m\u001b[0m\n\u001b[0;32m---> 10\u001b[0;31m   \u001b[0my_pred\u001b[0m\u001b[0;34m=\u001b[0m \u001b[0mmodel_1\u001b[0m\u001b[0;34m(\u001b[0m\u001b[0mX_train\u001b[0m\u001b[0;34m)\u001b[0m\u001b[0;34m\u001b[0m\u001b[0;34m\u001b[0m\u001b[0m\n\u001b[0m\u001b[1;32m     11\u001b[0m   \u001b[0mloss\u001b[0m\u001b[0;34m=\u001b[0m \u001b[0mloss_fn\u001b[0m\u001b[0;34m(\u001b[0m\u001b[0my_pred\u001b[0m\u001b[0;34m,\u001b[0m \u001b[0my_train\u001b[0m\u001b[0;34m)\u001b[0m\u001b[0;34m\u001b[0m\u001b[0;34m\u001b[0m\u001b[0m\n\u001b[1;32m     12\u001b[0m   \u001b[0moptimizer\u001b[0m\u001b[0;34m.\u001b[0m\u001b[0mzero_grad\u001b[0m\u001b[0;34m(\u001b[0m\u001b[0;34m)\u001b[0m\u001b[0;34m\u001b[0m\u001b[0;34m\u001b[0m\u001b[0m\n",
            "\u001b[0;32m/usr/local/lib/python3.10/dist-packages/torch/nn/modules/module.py\u001b[0m in \u001b[0;36m_call_impl\u001b[0;34m(self, *args, **kwargs)\u001b[0m\n\u001b[1;32m   1499\u001b[0m                 \u001b[0;32mor\u001b[0m \u001b[0m_global_backward_pre_hooks\u001b[0m \u001b[0;32mor\u001b[0m \u001b[0m_global_backward_hooks\u001b[0m\u001b[0;34m\u001b[0m\u001b[0;34m\u001b[0m\u001b[0m\n\u001b[1;32m   1500\u001b[0m                 or _global_forward_hooks or _global_forward_pre_hooks):\n\u001b[0;32m-> 1501\u001b[0;31m             \u001b[0;32mreturn\u001b[0m \u001b[0mforward_call\u001b[0m\u001b[0;34m(\u001b[0m\u001b[0;34m*\u001b[0m\u001b[0margs\u001b[0m\u001b[0;34m,\u001b[0m \u001b[0;34m**\u001b[0m\u001b[0mkwargs\u001b[0m\u001b[0;34m)\u001b[0m\u001b[0;34m\u001b[0m\u001b[0;34m\u001b[0m\u001b[0m\n\u001b[0m\u001b[1;32m   1502\u001b[0m         \u001b[0;31m# Do not call functions when jit is used\u001b[0m\u001b[0;34m\u001b[0m\u001b[0;34m\u001b[0m\u001b[0m\n\u001b[1;32m   1503\u001b[0m         \u001b[0mfull_backward_hooks\u001b[0m\u001b[0;34m,\u001b[0m \u001b[0mnon_full_backward_hooks\u001b[0m \u001b[0;34m=\u001b[0m \u001b[0;34m[\u001b[0m\u001b[0;34m]\u001b[0m\u001b[0;34m,\u001b[0m \u001b[0;34m[\u001b[0m\u001b[0;34m]\u001b[0m\u001b[0;34m\u001b[0m\u001b[0;34m\u001b[0m\u001b[0m\n",
            "\u001b[0;32m/usr/local/lib/python3.10/dist-packages/torch/nn/modules/module.py\u001b[0m in \u001b[0;36m_forward_unimplemented\u001b[0;34m(self, *input)\u001b[0m\n\u001b[1;32m    361\u001b[0m         \u001b[0mregistered\u001b[0m \u001b[0mhooks\u001b[0m \u001b[0;32mwhile\u001b[0m \u001b[0mthe\u001b[0m \u001b[0mlatter\u001b[0m \u001b[0msilently\u001b[0m \u001b[0mignores\u001b[0m \u001b[0mthem\u001b[0m\u001b[0;34m.\u001b[0m\u001b[0;34m\u001b[0m\u001b[0;34m\u001b[0m\u001b[0m\n\u001b[1;32m    362\u001b[0m     \"\"\"\n\u001b[0;32m--> 363\u001b[0;31m     \u001b[0;32mraise\u001b[0m \u001b[0mNotImplementedError\u001b[0m\u001b[0;34m(\u001b[0m\u001b[0;34mf\"Module [{type(self).__name__}] is missing the required \\\"forward\\\" function\"\u001b[0m\u001b[0;34m)\u001b[0m\u001b[0;34m\u001b[0m\u001b[0;34m\u001b[0m\u001b[0m\n\u001b[0m\u001b[1;32m    364\u001b[0m \u001b[0;34m\u001b[0m\u001b[0m\n\u001b[1;32m    365\u001b[0m \u001b[0;34m\u001b[0m\u001b[0m\n",
            "\u001b[0;31mNotImplementedError\u001b[0m: Module [LinearRegressionModelV2] is missing the required \"forward\" function"
          ]
        }
      ]
    },
    {
      "cell_type": "code",
      "source": [],
      "metadata": {
        "id": "ll4ApxtkEhfu"
      },
      "execution_count": null,
      "outputs": []
    }
  ]
}